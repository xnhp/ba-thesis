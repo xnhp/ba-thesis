{
 "cells": [
  {
   "cell_type": "markdown",
   "metadata": {
    "collapsed": true,
    "pycharm": {
     "name": "#%% md\n"
    }
   },
   "source": [
    "This is to explore how to access the different kinds of annotations in a given SBML file."
   ]
  },
  {
   "cell_type": "code",
   "execution_count": 136,
   "outputs": [
    {
     "name": "stdout",
     "output_type": "stream",
     "text": [
      "The autoreload extension is already loaded. To reload it, use:\n",
      "  %reload_ext autoreload\n"
     ]
    }
   ],
   "source": [
    "from data.util import get_dataset\n",
    "%load_ext autoreload\n",
    "%autoreload 2"
   ],
   "metadata": {
    "collapsed": false,
    "pycharm": {
     "name": "#%%\n"
    }
   }
  },
  {
   "cell_type": "code",
   "execution_count": 137,
   "outputs": [],
   "source": [
    "dataset = get_dataset(\"PDMap\")"
   ],
   "metadata": {
    "collapsed": false,
    "pycharm": {
     "name": "#%%\n"
    }
   }
  },
  {
   "cell_type": "code",
   "execution_count": 138,
   "outputs": [],
   "source": [
    "# libsbml and cobrapy do not support annotations in custom namespaces (e.g. celldesigner or biomodels)\n",
    "# from data.util import get_dataset, load_sbml\n",
    "# print(\"hello world!\")\n",
    "# sbml = load_sbml(dataset)\n",
    "# print(sbml)"
   ],
   "metadata": {
    "collapsed": false,
    "pycharm": {
     "name": "#%%\n"
    }
   }
  },
  {
   "cell_type": "code",
   "execution_count": 139,
   "outputs": [],
   "source": [
    "# Using ElementTree...\n",
    "# TODO: provide prefix map\n",
    "# import xml.etree.ElementTree as ET\n",
    "# tree = ET.parse(dataset)\n",
    "# root = tree.getroot()\n",
    "# for child in root:\n",
    "#     print(child.tag, child.attrib)\n",
    "#\n",
    "# tree.findall(\"/sbml/model/annotation/celldesigner:extension/celldesigner:listOfSpeciesAliases\")"
   ],
   "metadata": {
    "collapsed": false,
    "pycharm": {
     "name": "#%%\n"
    }
   }
  },
  {
   "cell_type": "code",
   "execution_count": 140,
   "outputs": [
    {
     "name": "stdout",
     "output_type": "stream",
     "text": [
      "<Element {http://www.sbml.org/2001/ns/celldesigner}extension at 0x26db44c4540>\n"
     ]
    }
   ],
   "source": [
    "targetxpath = \"/model/annotation/celldesigner:extension/celldesigner:listOfSpeciesAliases\"\n",
    "\n",
    "# Using lxml\n",
    "from lxml import etree\n",
    "tree = etree.parse(dataset)\n",
    "\n",
    "root = tree.getroot()\n",
    "\n",
    "# does not use proper XPath but a derivative called \"ElementTree\"\n",
    "cd_extension = tree.find(\"/model/annotation/celldesigner:extension\", root.nsmap)\n",
    "print(cd_extension)"
   ],
   "metadata": {
    "collapsed": false,
    "pycharm": {
     "name": "#%%\n"
    }
   }
  },
  {
   "cell_type": "code",
   "execution_count": 141,
   "outputs": [
    {
     "name": "stdout",
     "output_type": "stream",
     "text": [
      "4562\n",
      "779\n",
      "5341\n"
     ]
    }
   ],
   "source": [
    "# Extract species aliases (normal and complex)\n",
    "\n",
    "speciesAliases = cd_extension.findall(\"celldesigner:listOfSpeciesAliases/celldesigner:speciesAlias\", root.nsmap)\n",
    "print(len(speciesAliases))\n",
    "complexSpeciesAliases = cd_extension.findall(\"celldesigner:listOfComplexSpeciesAliases/celldesigner:complexSpeciesAlias\", root.nsmap)\n",
    "print(len(complexSpeciesAliases))\n",
    "\n",
    "print(len(speciesAliases) + len(complexSpeciesAliases)) # compare to results from KAP ✓\n"
   ],
   "metadata": {
    "collapsed": false,
    "pycharm": {
     "name": "#%%\n"
    }
   }
  },
  {
   "cell_type": "code",
   "execution_count": 142,
   "outputs": [],
   "source": [
    "# Extract species information and annotations\n",
    "\n",
    "listOfSpeciesEl = tree.find(\"/model/listOfSpecies\", root.nsmap)\n",
    "assert listOfSpeciesEl is not None\n",
    "\n",
    "# compare to results from KAP ✓\n",
    "assert len(listOfSpeciesEl.findall('species', root.nsmap)) == 2606"
   ],
   "metadata": {
    "collapsed": false,
    "pycharm": {
     "name": "#%%\n"
    }
   }
  },
  {
   "cell_type": "code",
   "execution_count": 143,
   "outputs": [
    {
     "name": "stdout",
     "output_type": "stream",
     "text": [
      "{'metaid': 's1905', 'id': 's1905', 'name': 'L-Glutamate', 'compartment': 'default', 'initialAmount': '0', 'charge': '0'}\n",
      "SIMPLE_MOLECULE\n"
     ]
    }
   ],
   "source": [
    "mySpecies = listOfSpeciesEl.find(\"species[@id='s1905']\", root.nsmap)\n",
    "\n",
    "# ids, name, ...\n",
    "print(mySpecies.attrib)\n",
    "\n",
    "cd_annots = mySpecies.find(\"annotation/celldesigner:extension\", root.nsmap)\n",
    "# species/node type (as per [[^2e2cfd]])\n",
    "print(cd_annots.find(\"celldesigner:speciesIdentity/celldesigner:class\", root.nsmap).text)\n",
    "# also relevant?\n",
    "# print(cd_annots.find(\"celldesigner:listOfCatalyzedReactions\", root.nsmap))"
   ],
   "metadata": {
    "collapsed": false,
    "pycharm": {
     "name": "#%%\n"
    }
   }
  },
  {
   "cell_type": "code",
   "execution_count": 144,
   "outputs": [
    {
     "name": "stdout",
     "output_type": "stream",
     "text": [
      "{'{http://www.w3.org/1999/02/22-rdf-syntax-ns#}resource': 'urn:miriam:reactome:REACT_13119.1'}\n",
      "{'{http://www.w3.org/1999/02/22-rdf-syntax-ns#}resource': 'urn:miriam:obo.chebi:CHEBI%3A16015'}\n"
     ]
    }
   ],
   "source": [
    "# need to explicitly add these namespaces\n",
    "nsmap = root.nsmap.copy()\n",
    "nsmap['rdf'] = \"http://www.w3.org/1999/02/22-rdf-syntax-ns#\"\n",
    "nsmap['dc'] = \"http://purl.org/dc/elements/1.1/\"\n",
    "nsmap['dcterms'] = \"http://purl.org/dc/terms/\"\n",
    "nsmap['vCard'] = \"http://www.w3.org/2001/vcard-rdf/3.0#\"\n",
    "nsmap['bqbiol'] = \"http://biomodels.net/biology-qualifiers/\"\n",
    "nsmap['bqmodel'] = \"http://biomodels.net/model-qualifiers/\"\n",
    "\n",
    "# annotations, cf. [[^83af5]]\n",
    "rdf_annots = mySpecies.find(\"annotation/rdf:RDF/rdf:Description\", nsmap)\n",
    "\n",
    "# see http://biomodels.net/biology-qualifiers/ (outdated, incomplete)\n",
    "# see http://co.mbine.org/standards/qualifiers\n",
    "# some examples:\n",
    "# \"is a version or an instance of the biological entitiy represented in the model element\"\n",
    "# the referenced entity may be more specific than the linked entity\n",
    "bio_hasVersion = rdf_annots.find('bqbiol:hasVersion/rdf:Bag', nsmap).findall('rdf:li', nsmap)\n",
    "print(bio_hasVersion[0].attrib)\n",
    "# `isVersionOf`: the referenced entity may be more general than the linked entity\n",
    "# \"has identity / exact counterpart\"\n",
    "bio_is = rdf_annots.find('bqbiol:is/rdf:Bag', nsmap).findall('rdf:li', nsmap)\n",
    "print(bio_is[0].attrib)"
   ],
   "metadata": {
    "collapsed": false,
    "pycharm": {
     "name": "#%%\n"
    }
   }
  }
 ],
 "metadata": {
  "kernelspec": {
   "display_name": "Python 3",
   "language": "python",
   "name": "python3"
  },
  "language_info": {
   "codemirror_mode": {
    "name": "ipython",
    "version": 2
   },
   "file_extension": ".py",
   "mimetype": "text/x-python",
   "name": "python",
   "nbconvert_exporter": "python",
   "pygments_lexer": "ipython2",
   "version": "2.7.6"
  }
 },
 "nbformat": 4,
 "nbformat_minor": 0
}